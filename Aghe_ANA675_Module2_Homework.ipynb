{
  "nbformat": 4,
  "nbformat_minor": 0,
  "metadata": {
    "colab": {
      "provenance": [],
      "authorship_tag": "ABX9TyPXZmTMrk5IVqIzqzrK4oIl",
      "include_colab_link": true
    },
    "kernelspec": {
      "name": "python3",
      "display_name": "Python 3"
    },
    "language_info": {
      "name": "python"
    }
  },
  "cells": [
    {
      "cell_type": "markdown",
      "metadata": {
        "id": "view-in-github",
        "colab_type": "text"
      },
      "source": [
        "<a href=\"https://colab.research.google.com/github/magnusaghe/ANA675/blob/main/Aghe_ANA675_Module2_Homework.ipynb\" target=\"_parent\"><img src=\"https://colab.research.google.com/assets/colab-badge.svg\" alt=\"Open In Colab\"/></a>"
      ]
    },
    {
      "cell_type": "markdown",
      "source": [
        "**Name: Magnus Aghe**\n",
        "\n",
        "**Student ID: 900400010**\n",
        "\n",
        "**Email: m.aghe0010@student.nu.edu**\n",
        "\n",
        "**Course: ANA675 - MODULE 2 ASSIGNMENT**\n",
        "\n"
      ],
      "metadata": {
        "id": "kZmqc25KXiHR"
      }
    },
    {
      "cell_type": "code",
      "execution_count": 1,
      "metadata": {
        "id": "9aLZE5IeXEfW"
      },
      "outputs": [],
      "source": [
        "import numpy as np\n",
        "from keras.models import Sequential\n",
        "from keras.layers import Dense"
      ]
    },
    {
      "cell_type": "code",
      "source": [
        "# Let's define the XOR dataset\n",
        "\n",
        "X = np.array([[0, 0], [0, 1], [1, 0], [1, 1]], \"float32\")\n",
        "y = np.array([[0], [1], [1], [0]], \"float32\")"
      ],
      "metadata": {
        "id": "tIOmGbx-XbKP"
      },
      "execution_count": 2,
      "outputs": []
    },
    {
      "cell_type": "code",
      "source": [
        "# Defining the neural network model\n",
        "\n",
        "model = Sequential()\n",
        "model.add(Dense(units=16, input_dim=2, activation='relu'))\n",
        "model.add(Dense(units=1, activation='sigmoid'))"
      ],
      "metadata": {
        "id": "-X_UpKXlavDG"
      },
      "execution_count": 3,
      "outputs": []
    },
    {
      "cell_type": "code",
      "source": [
        "# Compiling the model with the XOR loss function\n",
        "\n",
        "model.compile(loss='mean_squared_error', optimizer='adam', metrics=['binary_accuracy'])"
      ],
      "metadata": {
        "id": "MHucRi3tbEZ-"
      },
      "execution_count": 4,
      "outputs": []
    },
    {
      "cell_type": "code",
      "source": [
        "# Training the model\n",
        "\n",
        "model.fit(X, y, epochs=1000, verbose=0)"
      ],
      "metadata": {
        "colab": {
          "base_uri": "https://localhost:8080/"
        },
        "id": "aVSR400WbOZm",
        "outputId": "93c1f046-a9f3-4464-a08d-b3a1d172bee3"
      },
      "execution_count": 5,
      "outputs": [
        {
          "output_type": "execute_result",
          "data": {
            "text/plain": [
              "<keras.src.callbacks.History at 0x7f1734195510>"
            ]
          },
          "metadata": {},
          "execution_count": 5
        }
      ]
    },
    {
      "cell_type": "code",
      "source": [
        "# Evaluating the model\n",
        "\n",
        "loss, accuracy = model.evaluate(X, y)\n",
        "print(f\"Loss: {loss:.4f}, Accuracy: {accuracy:.4f}\")"
      ],
      "metadata": {
        "colab": {
          "base_uri": "https://localhost:8080/"
        },
        "id": "5tjkl_J2ixgR",
        "outputId": "a508158d-8b79-4629-b76a-2eeadaf3e471"
      },
      "execution_count": 6,
      "outputs": [
        {
          "output_type": "stream",
          "name": "stdout",
          "text": [
            "1/1 [==============================] - 0s 211ms/step - loss: 0.0231 - binary_accuracy: 1.0000\n",
            "Loss: 0.0231, Accuracy: 1.0000\n"
          ]
        }
      ]
    },
    {
      "cell_type": "code",
      "source": [
        "# Making predictions\n",
        "\n",
        "predictions = model.predict(X)\n",
        "rounded_predictions = [int(np.round(p)) for p in predictions]\n",
        "\n",
        "for i, x in enumerate(X):\n",
        "    print(f\"Input: {x}, Predicted: {rounded_predictions[i]}\")"
      ],
      "metadata": {
        "colab": {
          "base_uri": "https://localhost:8080/"
        },
        "id": "p3rVEPJUi9P2",
        "outputId": "0c9d18cc-f361-472b-da97-435b9ecf5eb0"
      },
      "execution_count": 7,
      "outputs": [
        {
          "output_type": "stream",
          "name": "stdout",
          "text": [
            "1/1 [==============================] - 0s 157ms/step\n",
            "Input: [0. 0.], Predicted: 0\n",
            "Input: [0. 1.], Predicted: 1\n",
            "Input: [1. 0.], Predicted: 1\n",
            "Input: [1. 1.], Predicted: 0\n"
          ]
        }
      ]
    }
  ]
}